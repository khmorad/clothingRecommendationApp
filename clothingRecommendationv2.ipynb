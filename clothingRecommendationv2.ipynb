{
  "cells": [
    {
      "cell_type": "markdown",
      "metadata": {
        "id": "-5msrB_auCZ5"
      },
      "source": [
        "# Upload dataset from Kaggle\n"
      ]
    },
    {
      "cell_type": "markdown",
      "metadata": {
        "id": "06FZFqhAxR33"
      },
      "source": [
        "Use Kaggle API\n"
      ]
    },
    {
      "cell_type": "code",
      "execution_count": null,
      "metadata": {},
      "outputs": [],
      "source": [
        "from google.colab import files\n",
        "# Upload kaggle.json\n",
        "files.upload()"
      ]
    },
    {
      "cell_type": "code",
      "execution_count": null,
      "metadata": {
        "id": "ID4B2JRdv3NS"
      },
      "outputs": [],
      "source": [
        "!pip install kaggle\n",
        "\n",
        "# create a directory for the Kaggle configuration\n",
        "!mkdir -p ~/.kaggle\n",
        "!cp kaggle.json ~/.kaggle/\n",
        "\n",
        "# set permissions for the API key\n",
        "!chmod 600 ~/.kaggle/kaggle.json"
      ]
    },
    {
      "cell_type": "code",
      "execution_count": null,
      "metadata": {
        "id": "5H0HV17JxH-h"
      },
      "outputs": [],
      "source": [
        "# use the Kaggle API to download the dataset\n",
        "!kaggle datasets download -d marquis03/high-resolution-viton-zalando-dataset\n",
        "\n",
        "# Unzip the downloaded dataset\n",
        "!unzip high-resolution-viton-zalando-dataset.zip -d viton_dataset"
      ]
    },
    {
      "cell_type": "markdown",
      "metadata": {
        "id": "8bXr4kyeUgKW"
      },
      "source": [
        "# Data Preprocessing\n"
      ]
    },
    {
      "cell_type": "code",
      "execution_count": null,
      "metadata": {
        "id": "C2SrTVIFUiPq"
      },
      "outputs": [],
      "source": [
        "import numpy as np\n",
        "from tensorflow.keras.applications.vgg16 import VGG16, preprocess_input\n",
        "from tensorflow.keras.preprocessing.image import img_to_array\n",
        "\n",
        "dataset_path = '/content/viton_dataset/train/cloth/'\n",
        "\n",
        "# function to preprocess an image\n",
        "def load_and_preprocess_image(image_path):\n",
        "    # resize to VGG16 input size\n",
        "    image = cv2.imread(image_path)\n",
        "    image = cv2.resize(image, (224, 224))  \n",
        "    image = img_to_array(image)\n",
        "    image = np.expand_dims(image, axis=0)\n",
        "    image = preprocess_input(image)\n",
        "    return image\n",
        "\n",
        "# preprocess all images in the dataset\n",
        "def load_dataset(dataset_path):\n",
        "    images = []\n",
        "    for filename in os.listdir(dataset_path):\n",
        "        image_path = os.path.join(dataset_path, filename)\n",
        "        image = load_and_preprocess_image(image_path)\n",
        "        images.append(image)\n",
        "    return np.vstack(images)\n",
        "\n",
        "images = load_dataset(dataset_path)\n"
      ]
    },
    {
      "cell_type": "markdown",
      "metadata": {
        "id": "WYJ8OCqAuQ9H"
      },
      "source": [
        "# Building CNN Model\n"
      ]
    },
    {
      "cell_type": "markdown",
      "metadata": {
        "id": "PnU6aTYgTeAX"
      },
      "source": [
        "## VGG16\n"
      ]
    },
    {
      "cell_type": "code",
      "execution_count": null,
      "metadata": {
        "id": "hLFXpv4ATYoI"
      },
      "outputs": [],
      "source": [
        "from tensorflow.keras.applications import VGG16\n",
        "from tensorflow.keras.models import Sequential\n",
        "from tensorflow.keras.layers import GlobalMaxPooling2D\n",
        "\n",
        "def load_model():\n",
        "    vgg16 = VGG16(include_top=False, weights='imagenet', input_shape=(224, 224, 3))\n",
        "    # freezing the layers\n",
        "    vgg16.trainable = False\n",
        "\n",
        "    vgg16_model = Sequential([\n",
        "        vgg16,\n",
        "        GlobalMaxPooling2D()\n",
        "    ])\n",
        "\n",
        "    return vgg16_model\n"
      ]
    },
    {
      "cell_type": "markdown",
      "metadata": {
        "id": "7C_ixcU-Vg2c"
      },
      "source": [
        "# Feature Extraction\n"
      ]
    },
    {
      "cell_type": "code",
      "execution_count": null,
      "metadata": {
        "id": "DObP1Bu9y_0b"
      },
      "outputs": [],
      "source": [
        "from tensorflow.keras.applications import ResNet50\n",
        "from tensorflow.keras.preprocessing import image\n",
        "from tensorflow.keras.applications.resnet50 import preprocess_input\n",
        "import numpy as np\n",
        "\n",
        "# Load the VGG-16 model - (currently using ResNet50)\n",
        "vgg16 = load_model()\n",
        "\n",
        "# Load the ResNet50 model\n",
        "model = ResNet50(weights='imagenet', include_top=False, pooling='avg')\n",
        "\n",
        "# Function to extract features from an image\n",
        "def extract_features(img_path):\n",
        "    img = image.load_img(img_path, target_size=(224, 224))\n",
        "    x = image.img_to_array(img)\n",
        "    x = np.expand_dims(x, axis=0)\n",
        "    x = preprocess_input(x)\n",
        "    features = model.predict(x)\n",
        "    return features.flatten()\n"
      ]
    },
    {
      "cell_type": "code",
      "execution_count": null,
      "metadata": {
        "id": "P1mLwR5pzF6Q"
      },
      "outputs": [],
      "source": [
        "import os\n",
        "import pandas as pd\n",
        "\n",
        "dataset_path = '/content/viton_dataset/train/cloth/'\n",
        "feature_list = []\n",
        "metadata = []\n",
        "\n",
        "# list files and process them\n",
        "for filename in os.listdir(dataset_path):\n",
        "    if filename.endswith('.jpg'):\n",
        "        img_path = os.path.join(dataset_path, filename)\n",
        "        features = extract_features(img_path)\n",
        "        feature_list.append(features)\n",
        "\n",
        "        # use the filename as the ID\n",
        "        id = filename\n",
        "        print(id)\n",
        "        print(len(feature_list))\n",
        "        \n",
        "        # Prepare metadata\n",
        "        file_path = os.path.join(dataset_path, filename)\n",
        "        metadata.append({'id': id, 'filename': filename, 'path': file_path})\n"
      ]
    },
    {
      "cell_type": "code",
      "execution_count": null,
      "metadata": {
        "colab": {
          "base_uri": "https://localhost:8080/"
        },
        "id": "L6g5A1aRzum_",
        "outputId": "389b1a5a-f23b-4ce7-d489-4acf04c43019"
      },
      "outputs": [
        {
          "data": {
            "text/plain": [
              "11647"
            ]
          },
          "execution_count": 18,
          "metadata": {},
          "output_type": "execute_result"
        }
      ],
      "source": [
        "len(feature_list)"
      ]
    },
    {
      "cell_type": "code",
      "execution_count": null,
      "metadata": {
        "colab": {
          "base_uri": "https://localhost:8080/"
        },
        "id": "0j_LpQPKSAGo",
        "outputId": "cbede430-fa76-43ae-c48b-1cc066f4d92e"
      },
      "outputs": [
        {
          "data": {
            "text/plain": [
              "[array([0.28651187, 5.076293  , 0.23147933, ..., 0.01470183, 0.07612606,\n",
              "        0.94015086], dtype=float32),\n",
              " array([0.12197728, 3.2597377 , 0.47953898, ..., 0.5882222 , 0.24142784,\n",
              "        0.15784536], dtype=float32),\n",
              " array([ 0.        , 10.147991  ,  0.6926977 , ...,  0.01903645,\n",
              "         0.39749247,  1.6924801 ], dtype=float32),\n",
              " array([0.        , 7.658969  , 0.12465989, ..., 0.3130816 , 0.        ,\n",
              "        0.26663032], dtype=float32),\n",
              " array([0.        , 5.1262255 , 0.36477405, ..., 0.01306739, 0.        ,\n",
              "        1.1932268 ], dtype=float32)]"
            ]
          },
          "execution_count": 21,
          "metadata": {},
          "output_type": "execute_result"
        }
      ],
      "source": [
        "feature_list[:5]"
      ]
    },
    {
      "cell_type": "code",
      "execution_count": null,
      "metadata": {
        "colab": {
          "base_uri": "https://localhost:8080/"
        },
        "id": "QDw8nDwaSFF3",
        "outputId": "cb14b72c-036e-4c77-8d8f-93d58fb29ba6"
      },
      "outputs": [
        {
          "data": {
            "text/plain": [
              "2048"
            ]
          },
          "execution_count": 109,
          "metadata": {},
          "output_type": "execute_result"
        }
      ],
      "source": [
        "len(feature_list[0])"
      ]
    },
    {
      "cell_type": "code",
      "execution_count": null,
      "metadata": {
        "colab": {
          "base_uri": "https://localhost:8080/"
        },
        "id": "Dp78s8RETF2Q",
        "outputId": "6e6efd82-c46a-4a86-9e4e-78d0c9474c41"
      },
      "outputs": [
        {
          "name": "stdout",
          "output_type": "stream",
          "text": [
            "Model output shape: (None, 2048)\n"
          ]
        }
      ],
      "source": [
        "# Check the shape of the output vector\n",
        "output_shape = model.output_shape\n",
        "print(\"Model output shape:\", output_shape)"
      ]
    },
    {
      "cell_type": "markdown",
      "metadata": {
        "id": "PgRXJYgrhR_p"
      },
      "source": [
        "We observe that the dataset contains 11,647 data points. After applying feature extraction, each clothing item is represented as a vector with 2,048 dimensions with each dimension corresponding to a different feature.\n"
      ]
    },
    {
      "cell_type": "markdown",
      "metadata": {
        "id": "m5QnDikrkebM"
      },
      "source": [
        "# Vector Embedding\n"
      ]
    },
    {
      "cell_type": "code",
      "execution_count": null,
      "metadata": {
        "id": "dbaHAvU8s0AX"
      },
      "outputs": [],
      "source": [
        "def embed_dataset(image_paths):\n",
        "    embeddings = []\n",
        "    for img_path in image_paths:\n",
        "        features = extract_features(img_path)\n",
        "        embeddings.append(features)\n",
        "\n",
        "    # convert embeddings to a DataFrame\n",
        "    df_embeddings = pd.DataFrame(embeddings)\n",
        "    return df_embeddings\n"
      ]
    },
    {
      "cell_type": "code",
      "execution_count": null,
      "metadata": {
        "id": "MOicZ49ssw09"
      },
      "outputs": [],
      "source": [
        "def get_image_paths(directory_path):\n",
        "    image_paths = [os.path.join(directory_path, f) for f in os.listdir(directory_path) if os.path.isfile(os.path.join(directory_path, f))]\n",
        "    return image_paths\n",
        "\n",
        "# get all image paths from the dataset directory\n",
        "dataset_path = '/content/viton_dataset/train/cloth/'\n",
        "image_paths = get_image_paths(dataset_path)"
      ]
    },
    {
      "cell_type": "code",
      "execution_count": null,
      "metadata": {
        "id": "eAbXQOAWroBm"
      },
      "outputs": [],
      "source": [
        "# get the embeddings DataFrame\n",
        "df_embeddings = embed_dataset(image_paths)"
      ]
    },
    {
      "cell_type": "code",
      "execution_count": null,
      "metadata": {
        "colab": {
          "base_uri": "https://localhost:8080/"
        },
        "id": "KUDMrm3p1Ve2",
        "outputId": "c44802ca-905a-4c27-cd3c-18a4d345db69"
      },
      "outputs": [
        {
          "name": "stdout",
          "output_type": "stream",
          "text": [
            "       0          1         2         3         4         5         6     \\\n",
            "0  0.286512   5.076293  0.231479  0.000000  0.118222  0.000000  0.024046   \n",
            "1  0.121977   3.259738  0.479539  0.110349  0.161641  0.064817  0.000000   \n",
            "2  0.000000  10.147991  0.692698  0.000000  0.000000  0.164780  0.594099   \n",
            "3  0.000000   7.658969  0.124660  0.000000  0.196029  0.137789  0.183361   \n",
            "4  0.000000   5.126225  0.364774  0.000000  0.792882  0.000000  0.215830   \n",
            "\n",
            "       7         8        9     ...      2038      2039      2040      2041  \\\n",
            "0  0.171124  0.059431  0.01826  ...  0.000000  0.134886  0.003136  0.421646   \n",
            "1  0.048861  0.006844  0.00000  ...  0.347186  0.568658  0.014264  0.618718   \n",
            "2  0.377142  0.000000  0.00000  ...  0.104397  0.869890  0.000000  0.348840   \n",
            "3  0.340893  0.000561  0.00000  ...  0.078792  0.396925  0.095898  0.076403   \n",
            "4  0.000000  0.033852  0.00000  ...  0.000000  0.106210  0.047729  0.207587   \n",
            "\n",
            "       2042      2043      2044      2045      2046      2047  \n",
            "0  0.392872  0.000000  0.147038  0.014702  0.076126  0.940151  \n",
            "1  0.111357  0.394766  0.106592  0.588222  0.241428  0.157845  \n",
            "2  0.711817  0.035442  1.193848  0.019036  0.397492  1.692480  \n",
            "3  0.260754  0.000000  0.940564  0.313082  0.000000  0.266630  \n",
            "4  0.000000  0.006731  0.760758  0.013067  0.000000  1.193227  \n",
            "\n",
            "[5 rows x 2048 columns]\n"
          ]
        }
      ],
      "source": [
        "print(df_embeddings.head())"
      ]
    },
    {
      "cell_type": "markdown",
      "metadata": {
        "id": "FFBlcGL41bOB"
      },
      "source": [
        "We cab observe that we have successfully embedded each image into the vector.\n"
      ]
    },
    {
      "cell_type": "markdown",
      "metadata": {
        "id": "n9OX8JdO1827"
      },
      "source": [
        "# Query Similar Images\n"
      ]
    },
    {
      "cell_type": "code",
      "execution_count": null,
      "metadata": {
        "colab": {
          "base_uri": "https://localhost:8080/"
        },
        "id": "w8wknY_z3bQ8",
        "outputId": "fc27d5f6-4ad9-4a6e-c558-9865cad80a6f"
      },
      "outputs": [
        {
          "name": "stdout",
          "output_type": "stream",
          "text": [
            "\u001b[1m1/1\u001b[0m \u001b[32m━━━━━━━━━━━━━━━━━━━━\u001b[0m\u001b[37m\u001b[0m \u001b[1m0s\u001b[0m 30ms/step\n"
          ]
        }
      ],
      "source": [
        "# user upload\n",
        "user_image_path = '/content/cloth3.jpg'  # Replace with the actual path to user image\n",
        "user_image_features = extract_features(user_image_path)"
      ]
    },
    {
      "cell_type": "code",
      "execution_count": null,
      "metadata": {
        "colab": {
          "base_uri": "https://localhost:8080/"
        },
        "id": "rf8cIjx_329o",
        "outputId": "c1919a74-90b6-4f6b-b3ff-5e24b6a230cf"
      },
      "outputs": [
        {
          "data": {
            "text/plain": [
              "array([[0.        , 0.16595477, 0.        , ..., 0.00259242, 0.18028228,\n",
              "        0.        ]], dtype=float32)"
            ]
          },
          "execution_count": 66,
          "metadata": {},
          "output_type": "execute_result"
        }
      ],
      "source": [
        "user_image_features"
      ]
    },
    {
      "cell_type": "code",
      "execution_count": null,
      "metadata": {
        "colab": {
          "base_uri": "https://localhost:8080/",
          "height": 410
        },
        "id": "nRHLAcJp9Xkc",
        "outputId": "58d46994-c770-4eed-c48c-6bfa1707a34e"
      },
      "outputs": [
        {
          "data": {
            "image/png": "[encoded data removed]",
            "text/plain": [
              "<Figure size 800x400 with 1 Axes>"
            ]
          },
          "metadata": {},
          "output_type": "display_data"
        }
      ],
      "source": [
        "import matplotlib.pyplot as plt\n",
        "import numpy as np\n",
        "\n",
        "def plot_feature_vector(features):\n",
        "    # flatten the feature vector if it is 2D\n",
        "    if features.ndim > 1:\n",
        "        features = features.flatten()\n",
        "\n",
        "    # ensure features is a 1D array\n",
        "    features = np.array(features)\n",
        "\n",
        "    plt.figure(figsize=(8, 4))\n",
        "    plt.bar(range(len(features)), features, color='skyblue')\n",
        "    plt.xlabel('Feature Index')\n",
        "    plt.ylabel('Feature Value')\n",
        "    plt.title('Feature Vector')\n",
        "    plt.show()\n",
        "\n",
        "# vector feature demonstration\n",
        "plot_feature_vector(user_image_features)\n"
      ]
    },
    {
      "cell_type": "markdown",
      "metadata": {
        "id": "BO20u_e3-Dbe"
      },
      "source": [
        "Feature vector of the uploaded image.\n"
      ]
    },
    {
      "cell_type": "code",
      "execution_count": null,
      "metadata": {
        "colab": {
          "base_uri": "https://localhost:8080/"
        },
        "id": "HthNVGMc5EwY",
        "outputId": "0264d6c9-299b-484a-ab65-53417d5b72af"
      },
      "outputs": [
        {
          "name": "stdout",
          "output_type": "stream",
          "text": [
            "\u001b[1m1/1\u001b[0m \u001b[32m━━━━━━━━━━━━━━━━━━━━\u001b[0m\u001b[37m\u001b[0m \u001b[1m0s\u001b[0m 29ms/step\n"
          ]
        }
      ],
      "source": [
        "# Reshape to (1, 2048)\n",
        "user_image_features = np.array(extract_features(user_image_path)).reshape(1, -1)  "
      ]
    },
    {
      "cell_type": "code",
      "execution_count": null,
      "metadata": {
        "colab": {
          "base_uri": "https://localhost:8080/"
        },
        "id": "tQB1Z_S_5Ine",
        "outputId": "ca68c187-c299-493c-acfd-243283a1f6fd"
      },
      "outputs": [
        {
          "name": "stdout",
          "output_type": "stream",
          "text": [
            "Shape of dataset_embeddings: (11647, 2048)\n",
            "Shape of user_image_features: (1, 2048)\n"
          ]
        }
      ],
      "source": [
        "print(\"Shape of dataset_embeddings:\", df_embeddings.shape)\n",
        "print(\"Shape of user_image_features:\", user_image_features.shape)"
      ]
    },
    {
      "cell_type": "markdown",
      "metadata": {
        "id": "CG0cTaK05La6"
      },
      "source": [
        "We have now ensured that the user uploaded image and the embeddings are both two dimensional arrays.\n"
      ]
    },
    {
      "cell_type": "markdown",
      "metadata": {
        "id": "qMKOKopq8f1I"
      },
      "source": [
        "Now we will observe varying methods of similarity functions to determine similar clothing.\n"
      ]
    },
    {
      "cell_type": "markdown",
      "metadata": {
        "id": "aaNoWIOf3B4u"
      },
      "source": [
        "## Cosine Similarity\n"
      ]
    },
    {
      "cell_type": "code",
      "execution_count": null,
      "metadata": {
        "colab": {
          "base_uri": "https://localhost:8080/"
        },
        "id": "lMywrFos2ATO",
        "outputId": "0867c212-e66c-4fdc-a157-a528487902a3"
      },
      "outputs": [
        {
          "name": "stdout",
          "output_type": "stream",
          "text": [
            "Indices of similar images: [ 9482  4609  2112 ...  2306  5906 10933]\n",
            "Cosine similarities: [[0.50216675 0.3325839  0.5034878  ... 0.47262847 0.6142889  0.37694708]]\n"
          ]
        }
      ],
      "source": [
        "from sklearn.metrics.pairwise import cosine_similarity\n",
        "import numpy as np\n",
        "\n",
        "def find_similar_images_cosine(user_image_features, dataset_embeddings):\n",
        "    # compute cosine similarity\n",
        "    similarities = cosine_similarity(user_image_features, dataset_embeddings)\n",
        "\n",
        "    # get indices of the most similar images\n",
        "    similar_indices = np.argsort(similarities[0])[::-1]  # Sort in descending order\n",
        "    return similar_indices, similarities\n",
        "\n",
        "# example usage\n",
        "indices, sim = find_similar_images_cosine(user_image_features, df_embeddings)\n",
        "\n",
        "# display results\n",
        "print(\"Indices of similar images:\", indices)\n",
        "print(\"Cosine similarities:\", sim)\n"
      ]
    },
    {
      "cell_type": "code",
      "execution_count": 71,
      "metadata": {
        "colab": {
          "base_uri": "https://localhost:8080/",
          "height": 675
        },
        "id": "nZEFn3qH6Orb",
        "outputId": "7d897ef4-c30f-4b96-b891-6fdd9dd19dce"
      },
      "outputs": [
        {
          "data": {
            "image/png": "[encoded data removed]",
            "text/plain": [
              "<Figure size 1200x1200 with 10 Axes>"
            ]
          },
          "metadata": {},
          "output_type": "display_data"
        }
      ],
      "source": [
        "import os\n",
        "import matplotlib.pyplot as plt\n",
        "import matplotlib.image as mpimg\n",
        "import numpy as np\n",
        "\n",
        "#function to list all image files in a directory\n",
        "def get_image_paths(directory):\n",
        "    image_extensions = {'.jpg', '.jpeg', '.png', '.bmp', '.gif'}  # Add more extensions if needed\n",
        "    image_paths = [os.path.join(directory, f) for f in os.listdir(directory)\n",
        "                   if os.path.splitext(f)[1].lower() in image_extensions]\n",
        "    return image_paths\n",
        "\n",
        "def visualize_cosine_similarity_images(user_image_features, dataset_embeddings, image_paths, top_n=10):\n",
        "    indices, similarities = find_similar_images_cosine(user_image_features, dataset_embeddings)\n",
        "\n",
        "    # top N similar images\n",
        "    top_indices = indices[:top_n]\n",
        "    top_similarities = similarities[0][top_indices]\n",
        "\n",
        "    #  length of image_paths and top_indices\n",
        "    if len(image_paths) < len(top_indices):\n",
        "        raise ValueError(\"Length of image_paths is less than the number of top_indices.\")\n",
        "\n",
        "    fig, axes = plt.subplots(1, top_n, figsize=(12, 12), squeeze=False)\n",
        "    # adjust spacing between subplots\n",
        "    fig.subplots_adjust(wspace=0.1, hspace=0)  \n",
        "\n",
        "    for i, idx in enumerate(top_indices):\n",
        "        if idx >= len(image_paths):\n",
        "            print(f\"Index {idx} is out of range for image_paths.\")\n",
        "            continue\n",
        "        ax = axes[0, i]\n",
        "        img = mpimg.imread(image_paths[idx])\n",
        "        ax.imshow(img)\n",
        "        ax.set_title(f\"Sim: {top_similarities[i]:.2f}\")\n",
        "        ax.axis('off')\n",
        "\n",
        "    plt.suptitle('Top N Similar Images')\n",
        "    plt.show()\n",
        "\n",
        "# get the list of image paths from the directory\n",
        "dataset_image_paths = get_image_paths(dataset_path)\n",
        "\n",
        "visualize_cosine_similarity_images(user_image_features, df_embeddings, dataset_image_paths)\n"
      ]
    }
  ],
  "metadata": {
    "accelerator": "GPU",
    "colab": {
      "collapsed_sections": [
        "-5msrB_auCZ5",
        "WYJ8OCqAuQ9H",
        "PnU6aTYgTeAX"
      ],
      "gpuType": "A100",
      "machine_shape": "hm",
      "provenance": []
    },
    "kernelspec": {
      "display_name": "Python 3",
      "name": "python3"
    },
    "language_info": {
      "name": "python"
    }
  },
  "nbformat": 4,
  "nbformat_minor": 0
}
